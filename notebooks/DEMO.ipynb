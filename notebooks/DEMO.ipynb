{
 "cells": [
  {
   "cell_type": "code",
   "execution_count": 1,
   "metadata": {},
   "outputs": [],
   "source": [
    "%load_ext autoreload\n",
    "%autoreload 2\n",
    "\n",
    "# ======== Imports ======\n",
    "import sys\n",
    "sys.path.append('../src')\n",
    "sys.path.append('..')\n",
    "\n",
    "import src.org_net as org_net\n",
    "import networkx as nx"
   ]
  },
  {
   "cell_type": "markdown",
   "metadata": {},
   "source": [
    "# Loading graph, cleaning, and precomputing the inverse"
   ]
  },
  {
   "cell_type": "code",
   "execution_count": 2,
   "metadata": {},
   "outputs": [],
   "source": [
    "G = nx.read_graphml('../data/orgnetwork.graphml')"
   ]
  },
  {
   "cell_type": "code",
   "execution_count": 3,
   "metadata": {},
   "outputs": [
    {
     "name": "stderr",
     "output_type": "stream",
     "text": [
      "/Users/daniellee/anaconda3/envs/senior_design/lib/python3.11/site-packages/dgl/backend/pytorch/tensor.py:53: UserWarning: Creating a tensor from a list of numpy.ndarrays is extremely slow. Please consider converting the list to a single numpy.ndarray with numpy.array() before converting to a tensor. (Triggered internally at /private/var/folders/nz/j6p8yfhx1mv_0grj5xl4650h0000gp/T/abs_1aidzjezue/croot/pytorch_1687856425340/work/torch/csrc/utils/tensor_new.cpp:248.)\n",
      "  return th.as_tensor(data, dtype=dtype)\n"
     ]
    }
   ],
   "source": [
    "G_dgl, id_key = org_net.clean_graph_pipeline(G) # Create synthetic graph and pass to the clean pipeline\n",
    "inv_graph = org_net.invert_graph(G_dgl, save=True)"
   ]
  },
  {
   "cell_type": "markdown",
   "metadata": {},
   "source": [
    "# Model Training"
   ]
  },
  {
   "cell_type": "code",
   "execution_count": 4,
   "metadata": {},
   "outputs": [
    {
     "name": "stdout",
     "output_type": "stream",
     "text": [
      "In epoch 0, loss: 0.7372114062309265\n",
      "AUC 0.39687129262075027\n",
      "In epoch 5, loss: 0.6949185132980347\n",
      "In epoch 10, loss: 0.6841543316841125\n",
      "In epoch 15, loss: 0.6703253388404846\n",
      "In epoch 20, loss: 0.6422444581985474\n",
      "In epoch 25, loss: 0.5994800925254822\n",
      "In epoch 30, loss: 0.5612955689430237\n",
      "In epoch 35, loss: 0.5149721503257751\n",
      "In epoch 40, loss: 0.4789535701274872\n",
      "In epoch 45, loss: 0.44979047775268555\n",
      "In epoch 50, loss: 0.42729514837265015\n",
      "In epoch 55, loss: 0.4083382189273834\n",
      "In epoch 60, loss: 0.38755691051483154\n",
      "In epoch 65, loss: 0.3750501275062561\n",
      "In epoch 70, loss: 0.35626110434532166\n",
      "In epoch 75, loss: 0.3402822017669678\n",
      "In epoch 80, loss: 0.3275812268257141\n",
      "In epoch 85, loss: 0.3082927465438843\n",
      "In epoch 90, loss: 0.3002236783504486\n",
      "In epoch 95, loss: 0.28832995891571045\n",
      "In epoch 100, loss: 0.27188313007354736\n",
      "AUC 0.8569380074876233\n",
      "In epoch 105, loss: 0.2737666368484497\n",
      "In epoch 110, loss: 0.25637951493263245\n",
      "In epoch 115, loss: 0.24676735699176788\n",
      "In epoch 120, loss: 0.23633232712745667\n",
      "In epoch 125, loss: 0.2254570722579956\n",
      "In epoch 130, loss: 0.22326608002185822\n",
      "In epoch 135, loss: 0.21052518486976624\n",
      "In epoch 140, loss: 0.20762796700000763\n",
      "In epoch 145, loss: 0.1971597671508789\n",
      "In epoch 150, loss: 0.20047590136528015\n",
      "In epoch 155, loss: 0.18708260357379913\n",
      "In epoch 160, loss: 0.18549790978431702\n",
      "In epoch 165, loss: 0.17884816229343414\n",
      "In epoch 170, loss: 0.17482075095176697\n",
      "In epoch 175, loss: 0.17055651545524597\n",
      "In epoch 180, loss: 0.16440927982330322\n",
      "In epoch 185, loss: 0.16105428338050842\n",
      "In epoch 190, loss: 0.15625767409801483\n",
      "In epoch 195, loss: 0.16082841157913208\n",
      "In epoch 200, loss: 0.15127749741077423\n",
      "AUC 0.9167822924278125\n",
      "In epoch 205, loss: 0.1523902863264084\n",
      "In epoch 210, loss: 0.14434276521205902\n",
      "In epoch 215, loss: 0.14319947361946106\n",
      "In epoch 220, loss: 0.13987551629543304\n",
      "In epoch 225, loss: 0.13592547178268433\n",
      "In epoch 230, loss: 0.13311009109020233\n",
      "In epoch 235, loss: 0.1309233158826828\n",
      "In epoch 240, loss: 0.12801073491573334\n",
      "In epoch 245, loss: 0.12684282660484314\n",
      "In epoch 250, loss: 0.13037121295928955\n",
      "In epoch 255, loss: 0.12205172330141068\n",
      "In epoch 260, loss: 0.12106189876794815\n",
      "In epoch 265, loss: 0.11929149180650711\n",
      "In epoch 270, loss: 0.11567800492048264\n",
      "In epoch 275, loss: 0.11376363039016724\n",
      "In epoch 280, loss: 0.11121302843093872\n",
      "In epoch 285, loss: 0.11475583165884018\n",
      "In epoch 290, loss: 0.11900045722723007\n",
      "In epoch 295, loss: 0.10655517876148224\n",
      "In epoch 300, loss: 0.10630256682634354\n",
      "AUC 0.9283076237058809\n"
     ]
    }
   ],
   "source": [
    "model = org_net.train_pipeline(G_dgl, epochs=300)"
   ]
  },
  {
   "cell_type": "markdown",
   "metadata": {},
   "source": [
    "# Example output calls"
   ]
  },
  {
   "cell_type": "code",
   "execution_count": 5,
   "metadata": {},
   "outputs": [
    {
     "data": {
      "text/plain": [
       "'{\"Tammy Huynh\": {\"\\\\u201cConsult Your Community- Texas Chapter\": 63.229026794433594, \"Zobha\": 63.229026794433594, \"Camp Kesem at the University of Texas at Austin\": 63.229026794433594, \"Texas Field Hockey\": 63.229026794433594, \"Student Endowed Centennial Lectureship\": 63.229026794433594}}'"
      ]
     },
     "execution_count": 5,
     "metadata": {},
     "output_type": "execute_result"
    }
   ],
   "source": [
    "org_net.get_reccomendations_for_new_student('Tammy Huynh', \n",
    "                                            year='Senior', \n",
    "                                            major='Biology (Bsa)', \n",
    "                                            list_of_orgs=['Texas Taekwondo'])"
   ]
  }
 ],
 "metadata": {
  "kernelspec": {
   "display_name": "sd",
   "language": "python",
   "name": "python3"
  },
  "language_info": {
   "codemirror_mode": {
    "name": "ipython",
    "version": 3
   },
   "file_extension": ".py",
   "mimetype": "text/x-python",
   "name": "python",
   "nbconvert_exporter": "python",
   "pygments_lexer": "ipython3",
   "version": "3.11.5"
  }
 },
 "nbformat": 4,
 "nbformat_minor": 2
}
